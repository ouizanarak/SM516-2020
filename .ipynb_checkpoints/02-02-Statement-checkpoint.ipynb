{
 "cells": [
  {
   "cell_type": "markdown",
   "metadata": {},
   "source": [
    "# <center> Statement"
   ]
  },
  {
   "cell_type": "markdown",
   "metadata": {},
   "source": [
    "<div ><img src=\"https://drive.google.com/uc?id=1pAK3xtQTpN5NZA7bXtYX6vf2_FpN4Q7K\" align=right width=100>"
   ]
  },
  {
   "cell_type": "markdown",
   "metadata": {},
   "source": [
    "<div align=right>สุพัตรา ศิริลาภ<br>2010531201011"
   ]
  },
  {
   "cell_type": "markdown",
   "metadata": {},
   "source": [
    "**ลำดับขั้นของไพธอน(The Python Conceptual Hierarchy)**\n",
    "1. Programs are composed of modules.\n",
    "2. Modules contain statements.\n",
    "3. Statements contain expressions.\n",
    "4. Expressions create and process objects."
   ]
  },
  {
   "cell_type": "markdown",
   "metadata": {},
   "source": [
    "# Python Statement"
   ]
  },
  {
   "cell_type": "markdown",
   "metadata": {},
   "source": [
    "|Statement|(หน้าที่)Role|(ตัวอย่าง)Example|\n",
    "|:--- |:--- |:--- |\n",
    "|Assignment การให้ค่า|Creating references สร้างการชี้ไปที่ค่า|<pre>a, b = 'good', 'bad'</pre> ทางขวามือเรียกว่า Literals|\n",
    "|Calls and other expressions|Running functions|log.write(\"spam, ham\")|\n",
    "|print calls|Printing objects|print('The Killer', joke)|\n",
    "|if/elif/else|electing actions|if \"python\" in text:<br />&nbsp;&nbsp;&nbsp;&nbsp;print(text)|\n",
    "|for/else|Iteration|for x in mylist: <br />&nbsp;&nbsp;&nbsp;&nbsp;print(x)|\n",
    "|while/else|General loops|while X > Y:<br />&nbsp;&nbsp;&nbsp;&nbsp; print('hello')|\n",
    "|pass|Empty placeholder|while True: <br />&nbsp;&nbsp;&nbsp;&nbsp;pass|\n",
    "|break|Loop exit|while True:<br />&nbsp;&nbsp;&nbsp;&nbsp; if exittest():break|\n",
    "|continue|Loop continue|while True: <br />&nbsp;&nbsp;&nbsp;&nbsp; if skiptest(): continue|\n",
    "|def|unctions and methods|def f(a, b, c=1, *d): <br />&nbsp;&nbsp;&nbsp;&nbsp;print(a+b+c+d[0])|\n",
    "|return|Functions results|def f(a, b, c=1, *d): <br />&nbsp;&nbsp;&nbsp;&nbsp;return a+b+c+d[0]|\n",
    "|yield|Generator functions |def gen(n) :<br />&nbsp;&nbsp;&nbsp;&nbsp; for i in n: yield i*2|\n",
    "|global|Namespaces |x = 'old'<br />def function(): <br />&nbsp;&nbsp;&nbsp;&nbsp;  global x, y; x = 'new'|\n",
    "|nonlocal|Namespaces (3.X)|def outer():<br />&nbsp;&nbsp;&nbsp;&nbsp;  x = 'old'  <br />&nbsp;&nbsp;&nbsp;&nbsp;def function(): <br />&nbsp;&nbsp;&nbsp;&nbsp;&nbsp;&nbsp;&nbsp;&nbsp;nonlocal x; x = 'new'|\n",
    "|import|Module access|import sys|\n",
    "|from|Attribute access|from sys import stdin|\n",
    "|class|Building objects|class Subclass(Superclass):<br />&nbsp;&nbsp;&nbsp;&nbsp; staticData = [] <br />&nbsp;&nbsp;&nbsp;&nbsp; def method(self): pass|\n",
    "|try/except/ finally|Catching exceptions|try:<br />&nbsp;&nbsp;&nbsp;&nbsp; action() <br /> except: <br />&nbsp;&nbsp;&nbsp;&nbsp;print('action error')|\n",
    "|raise|Triggering exceptions|raise EndSearch(location)|\n",
    "|assert|Debugging checks|assert X > Y, 'X too small'|\n",
    "|with/as|Context managers (3.X, 2.6+)|with open('data') as myfile:<br />&nbsp;&nbsp;&nbsp;&nbsp; process(myfile)|\n",
    "|del|Deleting references|del data[k] <br />del data[i:j]<br /> del obj.attr del variable|\n"
   ]
  },
  {
   "cell_type": "markdown",
   "metadata": {},
   "source": [
    "Statemet บน Python มีลักษณะสำคัญ\n",
    "1. ใช้กั้นหน้า (indent) บอก Statemet ระดับของกั้นหน้า ตามเครื่องหมายทวิภาค (:)\n",
    "2. หลีกเลี่ยงเลี่ยงการใช้วงเล็บ “（ ）” วงเล็บใช้กับตัวเก็บข้อมูล(Containner) แบบ Tuple"
   ]
  },
  {
   "cell_type": "markdown",
   "metadata": {},
   "source": [
    "# The Assignment Statement"
   ]
  },
  {
   "cell_type": "markdown",
   "metadata": {},
   "source": [
    "<pre>\n",
    "<i>\n",
    "target = expression\n",
    "target1 = target2 = expression\n",
    "target1, target2 = expression1, expression2\n",
    "target1 += expression\n",
    "<br>\n",
    "target1, target2, ... = same-length-iterable\n",
    "(target1, target2, ...) = same-length-iterable\n",
    "[target1, target2, ...] = same-length-iterable\n",
    "target1, *target2, ... = matching-length-iterable\n"
   ]
  },
  {
   "cell_type": "markdown",
   "metadata": {},
   "source": [
    "**Sequence Assignments**\n"
   ]
  },
  {
   "cell_type": "code",
   "execution_count": 3,
   "metadata": {},
   "outputs": [
    {
     "data": {
      "text/plain": [
       "(1, 2)"
      ]
     },
     "execution_count": 3,
     "metadata": {},
     "output_type": "execute_result"
    }
   ],
   "source": [
    "nudge = 1              # Basic assignment\n",
    "wink = 2\n",
    "A, B = nudge, wink # Tuple assignment\n",
    "A, B                        # Like A = nudge; B = wink"
   ]
  },
  {
   "cell_type": "code",
   "execution_count": 4,
   "metadata": {},
   "outputs": [
    {
     "data": {
      "text/plain": [
       "(1, 2)"
      ]
     },
     "execution_count": 4,
     "metadata": {},
     "output_type": "execute_result"
    }
   ],
   "source": [
    "[C, D] = [nudge, wink]  # List assignment\n",
    "C,D"
   ]
  },
  {
   "cell_type": "code",
   "execution_count": 7,
   "metadata": {},
   "outputs": [
    {
     "data": {
      "text/plain": [
       "(2, 1)"
      ]
     },
     "execution_count": 7,
     "metadata": {},
     "output_type": "execute_result"
    }
   ],
   "source": [
    "'''การสลับค่า'''\n",
    "nudge = 1\n",
    "wink = 2\n",
    "nudge, wink = wink, nudge # Tuples: swaps values\n",
    "nudge, wink                    # Like T = nudge; nudge = wink; wink = T"
   ]
  },
  {
   "cell_type": "code",
   "execution_count": 9,
   "metadata": {},
   "outputs": [
    {
     "data": {
      "text/plain": [
       "(1, 4)"
      ]
     },
     "execution_count": 9,
     "metadata": {},
     "output_type": "execute_result"
    }
   ],
   "source": [
    "a, b, c, d = [1, 2, 3, 4]\n",
    "a, d\n",
    "\n"
   ]
  },
  {
   "cell_type": "code",
   "execution_count": 10,
   "metadata": {},
   "outputs": [
    {
     "data": {
      "text/plain": [
       "('A', 'c')"
      ]
     },
     "execution_count": 10,
     "metadata": {},
     "output_type": "execute_result"
    }
   ],
   "source": [
    "(a, b, c) = 'ABc'\n",
    "a,c"
   ]
  },
  {
   "cell_type": "markdown",
   "metadata": {},
   "source": [
    "**Advanced sequence assignment patterns**"
   ]
  },
  {
   "cell_type": "code",
   "execution_count": 5,
   "metadata": {},
   "outputs": [
    {
     "data": {
      "text/plain": [
       "('S', 'M')"
      ]
     },
     "execution_count": 5,
     "metadata": {},
     "output_type": "execute_result"
    }
   ],
   "source": [
    "string = 'SPAM'\n",
    "a, b, c, d = string # Same number on both sides\n",
    "a, d"
   ]
  },
  {
   "cell_type": "code",
   "execution_count": 6,
   "metadata": {},
   "outputs": [
    {
     "ename": "ValueError",
     "evalue": "too many values to unpack (expected 3)",
     "output_type": "error",
     "traceback": [
      "\u001b[1;31m---------------------------------------------------------------------------\u001b[0m",
      "\u001b[1;31mValueError\u001b[0m                                Traceback (most recent call last)",
      "\u001b[1;32m<ipython-input-6-4b30472a59ca>\u001b[0m in \u001b[0;36m<module>\u001b[1;34m\u001b[0m\n\u001b[1;32m----> 1\u001b[1;33m \u001b[0ma\u001b[0m\u001b[1;33m,\u001b[0m \u001b[0mb\u001b[0m\u001b[1;33m,\u001b[0m \u001b[0mc\u001b[0m \u001b[1;33m=\u001b[0m \u001b[0mstring\u001b[0m \u001b[1;31m# Error if not\u001b[0m\u001b[1;33m\u001b[0m\u001b[1;33m\u001b[0m\u001b[0m\n\u001b[0m",
      "\u001b[1;31mValueError\u001b[0m: too many values to unpack (expected 3)"
     ]
    }
   ],
   "source": [
    "a, b, c = string # Error if not"
   ]
  },
  {
   "cell_type": "code",
   "execution_count": 9,
   "metadata": {},
   "outputs": [
    {
     "data": {
      "text/plain": [
       "('S', 'P', 'AM')"
      ]
     },
     "execution_count": 9,
     "metadata": {},
     "output_type": "execute_result"
    }
   ],
   "source": [
    "a, b, c = string[0], string[1], string[2:] # Index and slice\n",
    "a, b, c"
   ]
  },
  {
   "cell_type": "code",
   "execution_count": 10,
   "metadata": {},
   "outputs": [
    {
     "data": {
      "text/plain": [
       "('S', 'P', 'AM')"
      ]
     },
     "execution_count": 10,
     "metadata": {},
     "output_type": "execute_result"
    }
   ],
   "source": [
    "a, b, c = list(string[:2]) + [string[2:]] # Slice and concatenate\n",
    "a, b, c"
   ]
  },
  {
   "cell_type": "code",
   "execution_count": 11,
   "metadata": {},
   "outputs": [
    {
     "data": {
      "text/plain": [
       "('S', 'P', 'AM')"
      ]
     },
     "execution_count": 11,
     "metadata": {},
     "output_type": "execute_result"
    }
   ],
   "source": [
    "a, b, c = list(string[:2]) + [string[2:]] # Slice and concatenate\n",
    "a, b, c"
   ]
  },
  {
   "cell_type": "code",
   "execution_count": 12,
   "metadata": {},
   "outputs": [
    {
     "data": {
      "text/plain": [
       "('S', 'P', 'AM')"
      ]
     },
     "execution_count": 12,
     "metadata": {},
     "output_type": "execute_result"
    }
   ],
   "source": [
    "a, b = string[:2] # Same, but simpler\n",
    "c = string[2:]\n",
    "a, b, c"
   ]
  },
  {
   "cell_type": "code",
   "execution_count": 13,
   "metadata": {},
   "outputs": [
    {
     "data": {
      "text/plain": [
       "('S', 'P', 'AM')"
      ]
     },
     "execution_count": 13,
     "metadata": {},
     "output_type": "execute_result"
    }
   ],
   "source": [
    "(a, b), c = string[:2], string[2:] # Nested sequences\n",
    "a, b, c"
   ]
  },
  {
   "cell_type": "code",
   "execution_count": 14,
   "metadata": {},
   "outputs": [
    {
     "data": {
      "text/plain": [
       "('S', 'P', 'AM')"
      ]
     },
     "execution_count": 14,
     "metadata": {},
     "output_type": "execute_result"
    }
   ],
   "source": [
    " ((a, b), c) = ('SP', 'AM') # Paired by shape and position\n",
    "a, b, c"
   ]
  },
  {
   "cell_type": "code",
   "execution_count": 15,
   "metadata": {},
   "outputs": [
    {
     "data": {
      "text/plain": [
       "(0, 2)"
      ]
     },
     "execution_count": 15,
     "metadata": {},
     "output_type": "execute_result"
    }
   ],
   "source": [
    "red, green, blue = range(3)\n",
    "red, blue"
   ]
  },
  {
   "cell_type": "code",
   "execution_count": 16,
   "metadata": {},
   "outputs": [
    {
     "data": {
      "text/plain": [
       "[0, 1, 2]"
      ]
     },
     "execution_count": 16,
     "metadata": {},
     "output_type": "execute_result"
    }
   ],
   "source": [
    "list(range(3))"
   ]
  },
  {
   "cell_type": "code",
   "execution_count": 18,
   "metadata": {},
   "outputs": [
    {
     "name": "stdout",
     "output_type": "stream",
     "text": [
      "1 [2, 3, 4]\n",
      "2 [3, 4]\n",
      "3 [4]\n",
      "4 []\n"
     ]
    }
   ],
   "source": [
    "L = [1, 2, 3, 4]\n",
    "while L:\n",
    "    front, L = L[0], L[1:] # See next section for 3.X * alternative\n",
    "    print(front, L)\n"
   ]
  }
 ],
 "metadata": {
  "kernelspec": {
   "display_name": "Python 3",
   "language": "python",
   "name": "python3"
  },
  "language_info": {
   "codemirror_mode": {
    "name": "ipython",
    "version": 3
   },
   "file_extension": ".py",
   "mimetype": "text/x-python",
   "name": "python",
   "nbconvert_exporter": "python",
   "pygments_lexer": "ipython3",
   "version": "3.8.3"
  }
 },
 "nbformat": 4,
 "nbformat_minor": 4
}
